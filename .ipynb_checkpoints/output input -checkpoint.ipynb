{
 "cells": [
  {
   "cell_type": "code",
   "execution_count": 1,
   "id": "38d995b4-4ea5-40cd-ae19-898cf26956cf",
   "metadata": {},
   "outputs": [
    {
     "name": "stdout",
     "output_type": "stream",
     "text": [
      "hello_vedant\n"
     ]
    }
   ],
   "source": [
    "print('hello','vedant',sep='_')"
   ]
  },
  {
   "cell_type": "code",
   "execution_count": 3,
   "id": "5081cd0e-64e6-4005-86cb-3f1feceab864",
   "metadata": {},
   "outputs": [
    {
     "name": "stdout",
     "output_type": "stream",
     "text": [
      "hello vedant how r u\n"
     ]
    }
   ],
   "source": [
    "print('hello','vedant',end=' ')\n",
    "print('how r u')"
   ]
  },
  {
   "cell_type": "code",
   "execution_count": 4,
   "id": "e191c665-8a3e-46ae-9818-4029686206a6",
   "metadata": {},
   "outputs": [
    {
     "name": "stdin",
     "output_type": "stream",
     "text": [
      "enter your name vedant\n"
     ]
    },
    {
     "name": "stdout",
     "output_type": "stream",
     "text": [
      "hello_!vedant_!how are you\n"
     ]
    }
   ],
   "source": [
    "name=input('enter your name')\n",
    "print('hello',name,'how are you',sep='_!')"
   ]
  },
  {
   "cell_type": "code",
   "execution_count": 5,
   "id": "2bef1571-5b39-4280-b4f6-ee7dbf06c4a4",
   "metadata": {},
   "outputs": [
    {
     "name": "stdout",
     "output_type": "stream",
     "text": [
      "<class 'int'>\n"
     ]
    }
   ],
   "source": [
    "marks = 1233\n",
    "print(type(marks))"
   ]
  },
  {
   "cell_type": "code",
   "execution_count": 12,
   "id": "05bd2234-bc49-42ae-906b-c9d72fa53e65",
   "metadata": {},
   "outputs": [
    {
     "name": "stdout",
     "output_type": "stream",
     "text": [
      "12\n",
      "13.2\n",
      "hello\n",
      "(34+6j)\n",
      "56\n",
      "<class 'int'> <class 'float'> <class 'str'> <class 'complex'> <class 'int'>\n",
      "[21, 23.56, (4+6j)]!<class 'list'>\n"
     ]
    }
   ],
   "source": [
    "x=12\n",
    "y=13.2\n",
    "name='hello'\n",
    "real=34+6j\n",
    "img=56\n",
    "print(x,y,name,real,img,sep='\\n')\n",
    "print(type(x),type(y),type(name),type(real),type(img))\n",
    "marks=[21,23.56,4+6j]\n",
    "print(marks,type(marks),sep='!')"
   ]
  },
  {
   "cell_type": "code",
   "execution_count": null,
   "id": "c065de9c-5075-4b76-a87b-a8d56fd4b645",
   "metadata": {},
   "outputs": [],
   "source": []
  }
 ],
 "metadata": {
  "kernelspec": {
   "display_name": "Python 3 (ipykernel)",
   "language": "python",
   "name": "python3"
  },
  "language_info": {
   "codemirror_mode": {
    "name": "ipython",
    "version": 3
   },
   "file_extension": ".py",
   "mimetype": "text/x-python",
   "name": "python",
   "nbconvert_exporter": "python",
   "pygments_lexer": "ipython3",
   "version": "3.13.5"
  }
 },
 "nbformat": 4,
 "nbformat_minor": 5
}
